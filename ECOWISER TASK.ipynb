{
 "cells": [
  {
   "cell_type": "code",
   "execution_count": null,
   "id": "79789f32-e764-4e3d-a53c-64015ec40501",
   "metadata": {},
   "outputs": [],
   "source": []
  },
  {
   "cell_type": "code",
   "execution_count": 16,
   "id": "d887b766-84d8-4e3a-a9ac-291e4539b8fd",
   "metadata": {},
   "outputs": [
    {
     "name": "stdout",
     "output_type": "stream",
     "text": [
      "CSV file created successfully: <_io.TextIOWrapper name='Cogizant.csv' mode='w' encoding='cp1252'>\n"
     ]
    }
   ],
   "source": [
    "from selenium import webdriver\n",
    "from selenium.webdriver.common.by import By\n",
    "from bs4 import BeautifulSoup\n",
    "import time\n",
    "import csv\n",
    "\n",
    "# Here our code will start working and we have to put our email and password \n",
    "linkedin_email_id = \"ENTER YOUR EMAIL-ID FOR LOGIN \"\n",
    "linkedin_password = \"ENTER YOUR PASSWORD\"\n",
    "search_url = \"https://www.linkedin.com/search/results/people/?currentCompany=%5B%221680%22%2C%222463146%22%2C%2234847%22%2C%22424852%22%2C%22679845%22%2C%2275735605%22%2C%221763794%22%2C%22726398%22%2C%22973558%22%2C%2241384%22%2C%2210093266%22%2C%2223800%22%2C%22320621%22%2C%22432455%22%2C%2299974%22%2C%22617262%22%2C%222965469%22%2C%222593950%22%2C%22166418%22%2C%2254029%22%2C%223523615%22%2C%2284358%22%2C%221506912%22%2C%222458423%22%2C%221708375%22%2C%2244935%22%2C%225372177%22%2C%2215882008%22%2C%2245502%22%2C%22547938%22%2C%223025619%22%2C%2266159%22%2C%22126382%22%2C%22509660%22%2C%229205384%22%2C%224566486%22%5D&origin=COMPANY_PAGE_CANNED_SEARCH&sid=BQL\"\n",
    "excel_file_name = \"Cogizant\"\n",
    "company_domain_for_email = \"@google.com\"\n",
    "number_of_pages = 5\n",
    "\n",
    "# Login will be perform in the backward by itself\n",
    "driver = webdriver.Chrome(webdriver.ChromeOptions())\n",
    "driver.get(\"https://linkedin.com/uas/login\")\n",
    "time.sleep(5)\n",
    "username = driver.find_element(By.ID, \"username\")\n",
    "username.send_keys(linkedin_email_id) \n",
    "pword = driver.find_element(By.ID, \"password\")\n",
    "pword.send_keys(linkedin_password)    \n",
    "driver.find_element(By.XPATH, \"//button[@type='submit']\").click()\n",
    "\n",
    "\n",
    "\n",
    "#we have set the refresh time to 5 second this refresh and scanning the first and last name from it\n",
    "time.sleep(5)\n",
    "page_count = 1\n",
    "csv_rows = []\n",
    "while page_count <= number_of_pages:\n",
    "    current_url = search_url + \"&page=\" + str(page_count)\n",
    "    driver.get(current_url)  \n",
    "    time.sleep(10)\n",
    "    src = driver.page_source\n",
    "    soup = BeautifulSoup(src, 'html.parser')\n",
    "    name_divs = soup.findAll('span', attrs={'dir': 'ltr'})\n",
    "    position_divs = soup.findAll('div', attrs={'class': 'entity-result__primary-subtitle t-14 t-black t-normal'})\n",
    "    \n",
    "    # Check if either name_divs or position_divs is empty\n",
    "    if not name_divs:\n",
    "        print(\"No name found on page\", page_count)\n",
    "        break\n",
    "    \n",
    "    if not position_divs:\n",
    "        print(\"No position found on page\", page_count)\n",
    "        break\n",
    "    \n",
    "    # Determine the minimum length of the two lists\n",
    "    min_length = min(len(name_divs), len(position_divs))\n",
    "    \n",
    "    # Iterate over the minimum length\n",
    "    for i in range(min_length):\n",
    "        name = name_divs[i].find('span').getText().strip().split()\n",
    "        first_name = name[0]\n",
    "        last_name = ' '.join(name[1:])  # Join the last name parts\n",
    "        email = first_name + \".\" + last_name + company_domain_for_email\n",
    "        position = position_divs[i].getText().strip()\n",
    "        csv_rows.append([first_name, last_name, email, position])\n",
    "    \n",
    "    page_count += 1\n",
    "\n",
    "\n",
    "\n",
    "   \n",
    "# Writing to a csv file (openable in Excel)\n",
    "with open(excel_file_name + '.csv', 'w', newline='') as csvfile:\n",
    "        writer = csv.writer(csvfile, delimiter=',')\n",
    "        header_row = [\"first_name\", \"last_name\", \"email\", \"position\"]\n",
    "        writer.writerow(header_row)\n",
    "        for data_row in csv_rows:\n",
    "            writer.writerow(data_row)\n",
    "print(\"CSV file created successfully:\", csvfile)\n",
    "\n",
    "\n",
    "\n",
    "   \n",
    "\n",
    "   \n"
   ]
  }
 ],
 "metadata": {
  "kernelspec": {
   "display_name": "Python 3 (ipykernel)",
   "language": "python",
   "name": "python3"
  },
  "language_info": {
   "codemirror_mode": {
    "name": "ipython",
    "version": 3
   },
   "file_extension": ".py",
   "mimetype": "text/x-python",
   "name": "python",
   "nbconvert_exporter": "python",
   "pygments_lexer": "ipython3",
   "version": "3.12.2"
  }
 },
 "nbformat": 4,
 "nbformat_minor": 5
}
